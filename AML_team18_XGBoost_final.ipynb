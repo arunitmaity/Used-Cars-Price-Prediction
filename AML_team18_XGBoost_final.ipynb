{
  "nbformat": 4,
  "nbformat_minor": 0,
  "metadata": {
    "colab": {
      "name": "AML_team18_XGBoost.ipynb",
      "provenance": [],
      "collapsed_sections": []
    },
    "kernelspec": {
      "name": "python3",
      "display_name": "Python 3"
    },
    "language_info": {
      "name": "python"
    }
  },
  "cells": [
    {
      "cell_type": "markdown",
      "metadata": {
        "id": "hWZnKvRRZSNp"
      },
      "source": [
        "## imports"
      ]
    },
    {
      "cell_type": "code",
      "metadata": {
        "id": "-9Q685pHZTkL"
      },
      "source": [
        "import numpy as np\n",
        "import pandas as pd\n",
        "import matplotlib.pyplot as plt\n",
        "\n",
        "from sklearn.pipeline import Pipeline\n",
        "from sklearn.impute import SimpleImputer\n",
        "from sklearn.preprocessing import StandardScaler, OneHotEncoder, FunctionTransformer\n",
        "from sklearn.compose import ColumnTransformer\n",
        "from sklearn.model_selection import train_test_split\n",
        "\n",
        "%matplotlib inline"
      ],
      "execution_count": null,
      "outputs": []
    },
    {
      "cell_type": "markdown",
      "metadata": {
        "id": "WAbjeeWdZUcV"
      },
      "source": [
        "## preprocessing"
      ]
    },
    {
      "cell_type": "markdown",
      "metadata": {
        "id": "4O1xXaqReTzD"
      },
      "source": [
        "### Data Loading"
      ]
    },
    {
      "cell_type": "code",
      "metadata": {
        "id": "QfKs0jWNZWtu"
      },
      "source": [
        "file_path = \"https://aml-team18.s3.amazonaws.com/vehicles.csv.zip\"\n",
        "dataset = pd.read_csv(file_path, compression = 'zip')"
      ],
      "execution_count": null,
      "outputs": []
    },
    {
      "cell_type": "markdown",
      "metadata": {
        "id": "qlTdW5y2eX3R"
      },
      "source": [
        "### Pre-transform"
      ]
    },
    {
      "cell_type": "code",
      "metadata": {
        "id": "E09GQ9undJC6"
      },
      "source": [
        "drop_columns = ['id','url', 'region_url', 'VIN', 'image_url', 'posting_date', 'county']\n",
        "df = dataset.drop(drop_columns, axis = 1)\n",
        "PRICE_CAP = 100000\n",
        "YEAR_CAP_MIN = 2000\n",
        "YEAR_CAP_MAX = 2020\n",
        "df = df[(df.price <= PRICE_CAP) & (df.year >= YEAR_CAP_MIN) & (df.year <= YEAR_CAP_MAX)]\n",
        "df_price_stat = df.price.describe()\n",
        "df['price_cate'] = df.price.apply(lambda x:\n",
        "      'low' if 0 <= x <= df_price_stat['25%'] else\n",
        "      'medium low' if df_price_stat['25%'] <= x <= df_price_stat['50%'] else\n",
        "      'medium high' if df_price_stat['50%'] <= x <= df_price_stat['75%'] else\n",
        "      'high'\n",
        ")"
      ],
      "execution_count": null,
      "outputs": []
    },
    {
      "cell_type": "markdown",
      "metadata": {
        "id": "3EthDDs5hD63"
      },
      "source": [
        "### Data Imputer"
      ]
    },
    {
      "cell_type": "code",
      "metadata": {
        "id": "YgGWtqJ5hCp3"
      },
      "source": [
        "def simple_imputer():\n",
        "    return SimpleImputer(strategy='most_frequent')\n",
        "\n",
        "def groupby_imputer(by_cate = 'manufacturer'):\n",
        "    def _groupby_imputer(x):\n",
        "        cols = x.columns\n",
        "        def _groupby_one_cate(by_cate, col):\n",
        "            ref = x.groupby(by_cate)[col].apply(lambda x: x.dropna().unique()[0]\\\n",
        "                                                if len(x.dropna().unique()) !=0 else 'nan').to_dict()\n",
        "            ref[np.NaN] = 'nan'\n",
        "            return x.apply(lambda x: ref[x[by_cate]] if pd.isnull(x[col]) else x[col], axis = 1).values\n",
        "        res = []\n",
        "        for col in cols:\n",
        "            res.append(_groupby_one_cate(by_cate, col))\n",
        "        return np.vstack(res).T\n",
        "    pl = Pipeline(\n",
        "        steps = [\n",
        "            ('indication', FunctionTransformer(_groupby_imputer, validate=False))\n",
        "        ]\n",
        "    )\n",
        "    return pl\n",
        "\n",
        "def unknown_flag_imputer():\n",
        "    return SimpleImputer(strategy='constant', fill_value = 'nan')\n",
        "\n",
        "\n",
        "def imputer(groupby_imputing_feats, unknown_imputing_feats, most_freq_imputing_feats):\n",
        "    data_imputation = ColumnTransformer(\n",
        "        transformers = [\n",
        "           ('group_imputer', groupby_imputer(), groupby_imputing_feats + ['manufacturer']),\n",
        "            ('unknown_imputing', unknown_flag_imputer(), unknown_imputing_feats),\n",
        "            ('most_freq_imputing', simple_imputer(), most_freq_imputing_feats)\n",
        "        ]\n",
        "    )\n",
        "    return data_imputation"
      ],
      "execution_count": null,
      "outputs": []
    },
    {
      "cell_type": "markdown",
      "metadata": {
        "id": "dDr0dbh-sOSX"
      },
      "source": [
        "### Preprocessor"
      ]
    },
    {
      "cell_type": "code",
      "metadata": {
        "id": "tfAiHNvzsR4W"
      },
      "source": [
        "def feature_preproc():\n",
        "    groupby_imputing_feats = ['cylinders', 'fuel', 'transmission', 'drive', 'size', 'type']\n",
        "    unknown_imputing_feats = ['manufacturer','title_status', 'paint_color', 'state']\n",
        "    most_freq_imputing_feats = []\n",
        "\n",
        "    onehotfeats = groupby_imputing_feats + unknown_imputing_feats + most_freq_imputing_feats\n",
        "\n",
        "    imputation_pipe = Pipeline(\n",
        "        steps = [\n",
        "                 ('inputation', imputer(\n",
        "                                groupby_imputing_feats, \n",
        "                                unknown_imputing_feats, \n",
        "                                most_freq_imputing_feats\n",
        "                               )),\n",
        "                 ('onehot', OneHotEncoder(handle_unknown='ignore'))\n",
        "        ]\n",
        "    )\n",
        "    numericalfeats = ['year', 'odometer', 'lat', 'long']\n",
        "\n",
        "    numerical_pipe = Pipeline(\n",
        "        steps = [\n",
        "                 ('inputation', SimpleImputer()),\n",
        "                 ('scaler', StandardScaler())\n",
        "        ]\n",
        "    )\n",
        "\n",
        "    preprocessor = ColumnTransformer(\n",
        "        [\n",
        "         ('imputation',imputation_pipe, onehotfeats),\n",
        "         ('standard', numerical_pipe, numericalfeats),\n",
        "        #  ('target', )\n",
        "         ]\n",
        "    )\n",
        "    return preprocessor\n",
        "\n",
        "def target_preproc():\n",
        "    return FunctionTransformer(lambda x: np.log(x).values, validate=False)"
      ],
      "execution_count": null,
      "outputs": []
    },
    {
      "cell_type": "markdown",
      "metadata": {
        "id": "7HfJwh1tzg_E"
      },
      "source": [
        "### Data Splitting"
      ]
    },
    {
      "cell_type": "code",
      "metadata": {
        "id": "5NFpQvbJzibY"
      },
      "source": [
        "X = df.drop(['price', 'price_cate'], axis = 1)\n",
        "y = df.price\n",
        "# y_cate = df.price_cate\n",
        "\n",
        "X_dev, X_test, y_dev, y_test = train_test_split(\n",
        "    X, y, test_size = .2, random_state=42\n",
        ")\n",
        "\n",
        "X_train, X_valid, y_train, y_valid = train_test_split(\n",
        "    X_dev, y_dev, test_size = .2, random_state=42\n",
        ")"
      ],
      "execution_count": null,
      "outputs": []
    },
    {
      "cell_type": "code",
      "metadata": {
        "id": "_GnWQ8iC0n9i"
      },
      "source": [
        "feature_preprocessor = feature_preproc()\n",
        "target_preprocessor = target_preproc()"
      ],
      "execution_count": null,
      "outputs": []
    },
    {
      "cell_type": "code",
      "metadata": {
        "id": "yi-OxoWt0JUn"
      },
      "source": [
        "X_train = feature_preprocessor.fit_transform(X_train)\n",
        "X_valid = feature_preprocessor.transform(X_valid)\n",
        "X_test = feature_preprocessor.transform(X_test)\n",
        "# y_train = target_preprocessor.transform(y_train)\n",
        "# y_valid = target_preprocessor.transform(y_valid)\n",
        "# y_test = target_preprocessor.transform(y_test)"
      ],
      "execution_count": null,
      "outputs": []
    },
    {
      "cell_type": "markdown",
      "metadata": {
        "id": "eNwur5XzZXL3"
      },
      "source": [
        "## model"
      ]
    },
    {
      "cell_type": "markdown",
      "metadata": {
        "id": "nwVFLfRpkNXv"
      },
      "source": [
        "###Vanilla Decision Tree"
      ]
    },
    {
      "cell_type": "code",
      "metadata": {
        "id": "7h8jlfCWZaeb"
      },
      "source": [
        "from sklearn.tree import DecisionTreeClassifier\n",
        "import gc\n",
        "import time "
      ],
      "execution_count": null,
      "outputs": []
    },
    {
      "cell_type": "code",
      "metadata": {
        "colab": {
          "base_uri": "https://localhost:8080/"
        },
        "id": "6PzVki16tcHY",
        "outputId": "070091c9-690e-4210-c6f6-12fe8a3ab7d5"
      },
      "source": [
        "del dataset, df, df_price_stat, X, y, X_dev, y_dev\n",
        "gc.collect()"
      ],
      "execution_count": null,
      "outputs": [
        {
          "output_type": "execute_result",
          "data": {
            "text/plain": [
              "98"
            ]
          },
          "metadata": {},
          "execution_count": 11
        }
      ]
    },
    {
      "cell_type": "code",
      "metadata": {
        "id": "vKFudMxAjiMk"
      },
      "source": [
        "tree = DecisionTreeClassifier(random_state = 84, max_depth=30)\n",
        "start_time = time.time()\n",
        "tree.fit(X_train, y_train)\n",
        "print(\"--- %s seconds ---\" % (time.time() - start_time))"
      ],
      "execution_count": null,
      "outputs": []
    },
    {
      "cell_type": "code",
      "metadata": {
        "id": "IcWmtGuMjf6I"
      },
      "source": [
        "print(\"Performance on Development data :\", tree.score(X_valid, y_valid)*100, \"%\")\n",
        "print(\"Performance on Test data :\", tree.score(X_test, y_test)*100, '%')"
      ],
      "execution_count": null,
      "outputs": []
    }
  ]
}
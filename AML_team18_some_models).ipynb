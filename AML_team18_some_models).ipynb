{
  "cells": [
    {
      "cell_type": "markdown",
      "metadata": {
        "id": "hWZnKvRRZSNp"
      },
      "source": [
        "## imports"
      ]
    },
    {
      "cell_type": "code",
      "execution_count": null,
      "metadata": {
        "id": "-9Q685pHZTkL"
      },
      "outputs": [],
      "source": [
        "import numpy as np\n",
        "import pandas as pd\n",
        "import matplotlib.pyplot as plt\n",
        "\n",
        "from sklearn.pipeline import Pipeline\n",
        "from sklearn.impute import SimpleImputer\n",
        "from sklearn.preprocessing import StandardScaler, OneHotEncoder, FunctionTransformer\n",
        "from sklearn.compose import ColumnTransformer\n",
        "from sklearn.model_selection import train_test_split\n",
        "\n",
        "%matplotlib inline"
      ]
    },
    {
      "cell_type": "markdown",
      "metadata": {
        "id": "WAbjeeWdZUcV"
      },
      "source": [
        "## preprocessing"
      ]
    },
    {
      "cell_type": "markdown",
      "metadata": {
        "id": "4O1xXaqReTzD"
      },
      "source": [
        "### Data Loading"
      ]
    },
    {
      "cell_type": "code",
      "execution_count": null,
      "metadata": {
        "id": "QfKs0jWNZWtu"
      },
      "outputs": [],
      "source": [
        "file_path = \"https://aml-team18.s3.amazonaws.com/vehicles.csv.zip\"\n",
        "dataset = pd.read_csv(file_path, compression = 'zip')"
      ]
    },
    {
      "cell_type": "markdown",
      "metadata": {
        "id": "qlTdW5y2eX3R"
      },
      "source": [
        "### Pre-transform"
      ]
    },
    {
      "cell_type": "code",
      "execution_count": null,
      "metadata": {
        "id": "E09GQ9undJC6"
      },
      "outputs": [],
      "source": [
        "drop_columns = ['id','url', 'region_url', 'VIN', 'image_url', 'posting_date', 'county']\n",
        "df = dataset.drop(drop_columns, axis = 1)\n",
        "PRICE_CAP = 100000\n",
        "YEAR_CAP_MIN = 2000\n",
        "YEAR_CAP_MAX = 2020\n",
        "df = df[(df.price <= PRICE_CAP) & (df.year >= YEAR_CAP_MIN) & (df.year <= YEAR_CAP_MAX)]\n",
        "df_price_stat = df.price.describe()\n",
        "df['price_cate'] = df.price.apply(lambda x:\n",
        "      'low' if 0 <= x <= df_price_stat['25%'] else\n",
        "      'medium low' if df_price_stat['25%'] <= x <= df_price_stat['50%'] else\n",
        "      'medium high' if df_price_stat['50%'] <= x <= df_price_stat['75%'] else\n",
        "      'high'\n",
        ")"
      ]
    },
    {
      "cell_type": "markdown",
      "metadata": {
        "id": "3EthDDs5hD63"
      },
      "source": [
        "### Data Imputer"
      ]
    },
    {
      "cell_type": "code",
      "execution_count": null,
      "metadata": {
        "id": "YgGWtqJ5hCp3"
      },
      "outputs": [],
      "source": [
        "def simple_imputer():\n",
        "    return SimpleImputer(strategy='most_frequent')\n",
        "\n",
        "def groupby_imputer(by_cate = 'manufacturer'):\n",
        "    def _groupby_imputer(x):\n",
        "        cols = x.columns\n",
        "        def _groupby_one_cate(by_cate, col):\n",
        "            ref = x.groupby(by_cate)[col].apply(lambda x: x.dropna().unique()[0]\\\n",
        "                                                if len(x.dropna().unique()) !=0 else 'nan').to_dict()\n",
        "            ref[np.NaN] = 'nan'\n",
        "            return x.apply(lambda x: ref[x[by_cate]] if pd.isnull(x[col]) else x[col], axis = 1).values\n",
        "        res = []\n",
        "        for col in cols:\n",
        "            res.append(_groupby_one_cate(by_cate, col))\n",
        "        return np.vstack(res).T\n",
        "    pl = Pipeline(\n",
        "        steps = [\n",
        "            ('indication', FunctionTransformer(_groupby_imputer, validate=False))\n",
        "        ]\n",
        "    )\n",
        "    return pl\n",
        "\n",
        "def unknown_flag_imputer():\n",
        "    return SimpleImputer(strategy='constant', fill_value = 'nan')\n",
        "\n",
        "\n",
        "def imputer(groupby_imputing_feats, unknown_imputing_feats, most_freq_imputing_feats):\n",
        "    data_imputation = ColumnTransformer(\n",
        "        transformers = [\n",
        "           ('group_imputer', groupby_imputer(), groupby_imputing_feats + ['manufacturer']),\n",
        "            ('unknown_imputing', unknown_flag_imputer(), unknown_imputing_feats),\n",
        "            ('most_freq_imputing', simple_imputer(), most_freq_imputing_feats)\n",
        "        ]\n",
        "    )\n",
        "    return data_imputation"
      ]
    },
    {
      "cell_type": "markdown",
      "metadata": {
        "id": "DWH1OnCBrfWD"
      },
      "source": [
        "### Decategorizer"
      ]
    },
    {
      "cell_type": "code",
      "execution_count": null,
      "metadata": {
        "id": "K69T_Z_Kqp8f"
      },
      "outputs": [],
      "source": [
        "# todo"
      ]
    },
    {
      "cell_type": "code",
      "execution_count": null,
      "metadata": {
        "id": "u0YRMpFzrt-O"
      },
      "outputs": [],
      "source": [
        ""
      ]
    },
    {
      "cell_type": "markdown",
      "metadata": {
        "id": "dDr0dbh-sOSX"
      },
      "source": [
        "### Preprocessor"
      ]
    },
    {
      "cell_type": "code",
      "execution_count": null,
      "metadata": {
        "id": "tfAiHNvzsR4W"
      },
      "outputs": [],
      "source": [
        "def feature_preproc():\n",
        "    groupby_imputing_feats = ['cylinders', 'fuel', 'transmission', 'drive', 'size', 'type']\n",
        "    unknown_imputing_feats = ['manufacturer','title_status', 'paint_color', 'state']\n",
        "    most_freq_imputing_feats = []\n",
        "\n",
        "    onehotfeats = groupby_imputing_feats + unknown_imputing_feats + most_freq_imputing_feats\n",
        "\n",
        "    imputation_pipe = Pipeline(\n",
        "        steps = [\n",
        "                 ('inputation', imputer(\n",
        "                                groupby_imputing_feats, \n",
        "                                unknown_imputing_feats, \n",
        "                                most_freq_imputing_feats\n",
        "                               )),\n",
        "                 ('onehot', OneHotEncoder(handle_unknown='ignore'))\n",
        "        ]\n",
        "    )\n",
        "    numericalfeats = ['year', 'odometer', 'lat', 'long']\n",
        "\n",
        "    numerical_pipe = Pipeline(\n",
        "        steps = [\n",
        "                 ('inputation', SimpleImputer()),\n",
        "                 ('scaler', StandardScaler())\n",
        "        ]\n",
        "    )\n",
        "\n",
        "    preprocessor = ColumnTransformer(\n",
        "        [\n",
        "         ('imputation',imputation_pipe, onehotfeats),\n",
        "         ('standard', numerical_pipe, numericalfeats),\n",
        "        #  ('target', )\n",
        "         ]\n",
        "    )\n",
        "    return preprocessor\n",
        "\n",
        "def target_preproc():\n",
        "    return FunctionTransformer(lambda x: np.log(x).values, validate=False)"
      ]
    },
    {
      "cell_type": "markdown",
      "metadata": {
        "id": "7HfJwh1tzg_E"
      },
      "source": [
        "### Data Splitting"
      ]
    },
    {
      "cell_type": "code",
      "execution_count": null,
      "metadata": {
        "id": "5NFpQvbJzibY"
      },
      "outputs": [],
      "source": [
        "X = df.drop(['price', 'price_cate'], axis = 1)\n",
        "y = df.price\n",
        "# y_cate = df.price_cate\n",
        "\n",
        "X_dev, X_test, y_dev, y_test = train_test_split(\n",
        "    X, y, test_size = .2, random_state=42\n",
        ")\n",
        "\n",
        "X_train, X_valid, y_train, y_valid = train_test_split(\n",
        "    X_dev, y_dev, test_size = .2, random_state=42\n",
        ")"
      ]
    },
    {
      "cell_type": "code",
      "execution_count": null,
      "metadata": {
        "id": "_GnWQ8iC0n9i"
      },
      "outputs": [],
      "source": [
        "feature_preprocessor = feature_preproc()\n",
        "target_preprocessor = target_preproc()"
      ]
    },
    {
      "cell_type": "code",
      "execution_count": null,
      "metadata": {
        "id": "yi-OxoWt0JUn"
      },
      "outputs": [],
      "source": [
        "X_train = feature_preprocessor.fit_transform(X_train)\n",
        "X_valid = feature_preprocessor.transform(X_valid)\n",
        "X_test = feature_preprocessor.transform(X_test)\n",
        "# y_train = target_preprocessor.transform(y_train)\n",
        "# y_valid = target_preprocessor.transform(y_valid)\n",
        "# y_test = target_preprocessor.transform(y_test)"
      ]
    },
    {
      "cell_type": "markdown",
      "metadata": {
        "id": "eNwur5XzZXL3"
      },
      "source": [
        "## model"
      ]
    },
    {
      "cell_type": "code",
      "execution_count": null,
      "metadata": {
        "id": "7h8jlfCWZaeb"
      },
      "outputs": [],
      "source": [
        "from sklearn.linear_model import LinearRegression"
      ]
    },
    {
      "cell_type": "code",
      "execution_count": null,
      "metadata": {
        "colab": {
          "base_uri": "https://localhost:8080/"
        },
        "id": "qNfE8D843WYk",
        "outputId": "72d8ea86-d16a-4e75-ff24-43c141308967"
      },
      "outputs": [
        {
          "output_type": "execute_result",
          "data": {
            "text/plain": [
              "LinearRegression()"
            ]
          },
          "metadata": {},
          "execution_count": 15
        }
      ],
      "source": [
        "lr = LinearRegression()\n",
        "lr.fit(X_train, y_train)"
      ]
    },
    {
      "cell_type": "code",
      "execution_count": null,
      "metadata": {
        "colab": {
          "base_uri": "https://localhost:8080/"
        },
        "id": "MUqEWZU_4YQg",
        "outputId": "ad24fb7e-621f-4dd6-d622-f7a4096155dd"
      },
      "outputs": [
        {
          "output_type": "execute_result",
          "data": {
            "text/plain": [
              "0.4761100216010916"
            ]
          },
          "metadata": {},
          "execution_count": 16
        }
      ],
      "source": [
        "lr.score(X_train, y_train)"
      ]
    },
    {
      "cell_type": "code",
      "execution_count": null,
      "metadata": {
        "colab": {
          "base_uri": "https://localhost:8080/"
        },
        "id": "qSKyQnOT2xkc",
        "outputId": "4c7aeb86-2ab9-4534-8716-67ed3a54e05a"
      },
      "outputs": [
        {
          "output_type": "execute_result",
          "data": {
            "text/plain": [
              "0.45508906041959907"
            ]
          },
          "metadata": {},
          "execution_count": 17
        }
      ],
      "source": [
        "lr.score(X_valid, y_valid)"
      ]
    },
    {
      "cell_type": "code",
      "execution_count": null,
      "metadata": {
        "colab": {
          "base_uri": "https://localhost:8080/"
        },
        "id": "ZHs97eon3ffg",
        "outputId": "627cc8ed-e198-40f8-964b-ae113277a795"
      },
      "outputs": [
        {
          "output_type": "execute_result",
          "data": {
            "text/plain": [
              "0.46631611567360765"
            ]
          },
          "metadata": {},
          "execution_count": 18
        }
      ],
      "source": [
        "lr.score(X_test, y_test)"
      ]
    },
    {
      "cell_type": "markdown",
      "metadata": {
        "id": "oDnMUgCq9g_V"
      },
      "source": [
        "### Random Forest"
      ]
    },
    {
      "cell_type": "code",
      "execution_count": null,
      "metadata": {
        "colab": {
          "base_uri": "https://localhost:8080/"
        },
        "id": "nga-uApN9kCJ",
        "outputId": "b9ee0c78-e3b5-40fc-995e-0370c0937a89"
      },
      "outputs": [
        {
          "data": {
            "text/plain": [
              "RandomForestRegressor(max_depth=13, n_estimators=500, n_jobs=-1)"
            ]
          },
          "execution_count": 20,
          "metadata": {},
          "output_type": "execute_result"
        }
      ],
      "source": [
        "from sklearn.ensemble import RandomForestRegressor\n",
        "from sklearn.model_selection import GridSearchCV\n",
        "\n",
        "rfr = RandomForestRegressor(n_jobs=-1, n_estimators=500, max_depth=13)\n",
        "rfr.fit(X_train, y_train)"
      ]
    },
    {
      "cell_type": "code",
      "execution_count": null,
      "metadata": {
        "colab": {
          "base_uri": "https://localhost:8080/"
        },
        "id": "7MEP58vq9kFd",
        "outputId": "ff78739e-e511-4b29-e01a-488094a937f8"
      },
      "outputs": [
        {
          "data": {
            "text/plain": [
              "0.7227569056786043"
            ]
          },
          "execution_count": 21,
          "metadata": {},
          "output_type": "execute_result"
        }
      ],
      "source": [
        "rfr.score(X_train, y_train)"
      ]
    },
    {
      "cell_type": "code",
      "execution_count": null,
      "metadata": {
        "colab": {
          "base_uri": "https://localhost:8080/"
        },
        "id": "FngFtc-W9kIa",
        "outputId": "b4b84d76-3173-4174-e9ab-e2ea864a3df1"
      },
      "outputs": [
        {
          "data": {
            "text/plain": [
              "0.625410056901474"
            ]
          },
          "execution_count": 22,
          "metadata": {},
          "output_type": "execute_result"
        }
      ],
      "source": [
        "rfr.score(X_valid, y_valid)"
      ]
    },
    {
      "cell_type": "code",
      "execution_count": null,
      "metadata": {
        "colab": {
          "base_uri": "https://localhost:8080/"
        },
        "id": "iYKfPmPs9ykJ",
        "outputId": "2a407e5c-a190-4d8a-c078-2ac15a5f387d"
      },
      "outputs": [
        {
          "data": {
            "text/plain": [
              "0.6313915802997974"
            ]
          },
          "execution_count": 23,
          "metadata": {},
          "output_type": "execute_result"
        }
      ],
      "source": [
        "rfr.score(X_test, y_test)"
      ]
    },
    {
      "cell_type": "markdown",
      "metadata": {
        "id": "QITsZwsR-FZu"
      },
      "source": [
        "### Adaboost Regressor"
      ]
    },
    {
      "cell_type": "code",
      "execution_count": null,
      "metadata": {
        "colab": {
          "base_uri": "https://localhost:8080/"
        },
        "id": "SkqneOXY-LjL",
        "outputId": "4151fead-d070-4bcd-d34e-9a5256b8696f"
      },
      "outputs": [
        {
          "data": {
            "text/plain": [
              "AdaBoostRegressor(base_estimator=LinearRegression(), n_estimators=500)"
            ]
          },
          "execution_count": 24,
          "metadata": {},
          "output_type": "execute_result"
        }
      ],
      "source": [
        "from sklearn.ensemble import AdaBoostRegressor\n",
        "\n",
        "abr = AdaBoostRegressor(base_estimator=LinearRegression(), n_estimators=500)\n",
        "abr.fit(X_train, y_train)"
      ]
    },
    {
      "cell_type": "code",
      "execution_count": null,
      "metadata": {
        "colab": {
          "base_uri": "https://localhost:8080/"
        },
        "id": "ASRuvu9q-LmO",
        "outputId": "fb12f6b7-3e13-482f-b520-2a0ebb29f8cd"
      },
      "outputs": [
        {
          "data": {
            "text/plain": [
              "0.43152729810492396"
            ]
          },
          "execution_count": 25,
          "metadata": {},
          "output_type": "execute_result"
        }
      ],
      "source": [
        "abr.score(X_train, y_train)"
      ]
    },
    {
      "cell_type": "code",
      "execution_count": null,
      "metadata": {
        "colab": {
          "base_uri": "https://localhost:8080/"
        },
        "id": "GSF85VQj-LpN",
        "outputId": "3251f4f0-11dd-4beb-d87d-f489ee7a48e7"
      },
      "outputs": [
        {
          "data": {
            "text/plain": [
              "0.3990289646001648"
            ]
          },
          "execution_count": 26,
          "metadata": {},
          "output_type": "execute_result"
        }
      ],
      "source": [
        "abr.score(X_valid, y_valid)"
      ]
    },
    {
      "cell_type": "code",
      "execution_count": null,
      "metadata": {
        "colab": {
          "base_uri": "https://localhost:8080/"
        },
        "id": "kiQ_WSZq-SJv",
        "outputId": "be5767d5-7ebc-41c1-8eb2-e6f8f92805f9"
      },
      "outputs": [
        {
          "data": {
            "text/plain": [
              "0.41231979661178"
            ]
          },
          "execution_count": 27,
          "metadata": {},
          "output_type": "execute_result"
        }
      ],
      "source": [
        "abr.score(X_test, y_test)"
      ]
    },
    {
      "cell_type": "markdown",
      "metadata": {
        "id": "VGtMpiSW-cSD"
      },
      "source": [
        "### Histogram-based Gradient Boosting Regression Tree"
      ]
    },
    {
      "cell_type": "code",
      "execution_count": null,
      "metadata": {
        "colab": {
          "background_save": true,
          "base_uri": "https://localhost:8080/"
        },
        "id": "FFNhP0na-eHc",
        "outputId": "797e64e5-2053-46f6-d9a5-5f62d7835d4e"
      },
      "outputs": [
        {
          "name": "stderr",
          "output_type": "stream",
          "text": [
            "/usr/local/lib/python3.7/dist-packages/sklearn/experimental/enable_hist_gradient_boosting.py:17: UserWarning: Since version 1.0, it is not needed to import enable_hist_gradient_boosting anymore. HistGradientBoostingClassifier and HistGradientBoostingRegressor are now stable and can be normally imported from sklearn.ensemble.\n",
            "  \"Since version 1.0, \"\n"
          ]
        }
      ],
      "source": [
        "from sklearn.experimental import enable_hist_gradient_boosting\n",
        "from sklearn.ensemble import HistGradientBoostingRegressor\n",
        "from sklearn.model_selection import GridSearchCV\n",
        "\n",
        "params = {'max_iter':(500, 1000, 1500), 'max_depth':[9, 13, 17]}\n",
        "gs_hgbr = GridSearchCV(HistGradientBoostingRegressor(), params, n_jobs=-1)\n",
        "gs_hgbr.fit(X_train.toarray(), y_train)"
      ]
    },
    {
      "cell_type": "code",
      "execution_count": null,
      "metadata": {
        "id": "Z1KLVCl_-eKw"
      },
      "outputs": [],
      "source": [
        "gs_hgbr.best_params_"
      ]
    },
    {
      "cell_type": "code",
      "execution_count": null,
      "metadata": {
        "id": "6Vjo21NU-eN9"
      },
      "outputs": [],
      "source": [
        "gs_hgbr.best_score_"
      ]
    },
    {
      "cell_type": "code",
      "execution_count": null,
      "metadata": {
        "id": "U9UDpalq-k6B"
      },
      "outputs": [],
      "source": [
        "best_params = gs_hgbr.best_params_\n",
        "hgbr = HistGradientBoostingRegressor(max_iter=best_params['max_iter'], max_depth=best_params['max_depth'])\n",
        "hgbr.fit(X_train.toarray(), y_train)"
      ]
    },
    {
      "cell_type": "code",
      "execution_count": null,
      "metadata": {
        "id": "QuKznYGx-k9o"
      },
      "outputs": [],
      "source": [
        "hgbr.score(X_train.toarray(), y_train)"
      ]
    },
    {
      "cell_type": "code",
      "execution_count": null,
      "metadata": {
        "id": "3z2bwQDW-lA1"
      },
      "outputs": [],
      "source": [
        "hgbr.score(X_valid.toarray(), y_valid)"
      ]
    },
    {
      "cell_type": "code",
      "execution_count": null,
      "metadata": {
        "id": "6FpzCS6A-tQX"
      },
      "outputs": [],
      "source": [
        "hgbr.score(X_test.toarray(), y_test)"
      ]
    },
    {
      "cell_type": "markdown",
      "metadata": {
        "id": "ChA9GgdE-zwF"
      },
      "source": [
        "### Multi-layer Perceptron Regressor"
      ]
    },
    {
      "cell_type": "code",
      "execution_count": null,
      "metadata": {
        "id": "3qmT6617-1EF"
      },
      "outputs": [],
      "source": [
        "from sklearn.neural_network import MLPRegressor\n",
        "\n",
        "mlpr = MLPRegressor(hidden_layer_sizes=(256, 64, 16), max_iter=100, alpha=0.1)\n",
        "mlpr.fit(X_train, y_train)"
      ]
    },
    {
      "cell_type": "code",
      "execution_count": null,
      "metadata": {
        "id": "EuKKr1ZE-1XB"
      },
      "outputs": [],
      "source": [
        "mlpr.score(X_train, y_train)"
      ]
    },
    {
      "cell_type": "code",
      "execution_count": null,
      "metadata": {
        "id": "Zl7cTxCp-1a2"
      },
      "outputs": [],
      "source": [
        "mlpr.score(X_valid, y_valid)"
      ]
    },
    {
      "cell_type": "code",
      "execution_count": null,
      "metadata": {
        "id": "pu7ZFxj7-8gR"
      },
      "outputs": [],
      "source": [
        "mlpr.score(X_test, y_test)"
      ]
    },
    {
      "cell_type": "markdown",
      "metadata": {
        "id": "Pnvj3Zmr7dhL"
      },
      "source": [
        "### XGBoost"
      ]
    },
    {
      "cell_type": "code",
      "execution_count": null,
      "metadata": {
        "id": "_nv4IgYQyp60"
      },
      "outputs": [],
      "source": [
        "def print_scores(model_name):\n",
        "  scores = [model_name.score(X_train, y_train), model_name.score(X_valid, y_valid), model_name.score(X_test, y_test)]\n",
        "  print(\"Scores: \\n\\tTrain {:.4f}\\n\\tValid {:.4f}\\n\\tTest  {:.4f}\".format(*scores))"
      ]
    },
    {
      "cell_type": "code",
      "execution_count": null,
      "metadata": {
        "id": "7I4JJWGmyY77"
      },
      "outputs": [],
      "source": [
        "import xgboost as xgb\n",
        "from sklearn.model_selection import GridSearchCV\n",
        "\n",
        "# params = {'learning_rate':[0.1, 0.3], 'n_estimators':[30,300], 'max_depth'=[12, 15]}\n",
        "\n",
        "# gs_xgb_model = GridSearchCV(xgb.XGBRegressor(objective='reg:squarederror', alpha = 10), params)\n",
        "# gs_xgb_model.fit(X_train, y_train)"
      ]
    },
    {
      "cell_type": "code",
      "execution_count": null,
      "metadata": {
        "id": "Hzchgf9Uyhsv"
      },
      "outputs": [],
      "source": [
        "# best_params = gs_xgb_model.best_params_\n",
        "# print(\"Best params:\", best_params)\n",
        "# xgb_model_1 = xgb.XGBRegressor(objective='reg:squarederror', alpha = 10, max_depth=best_params['max_depth'],\n",
        "#                              n_estimators = best_params['n_estimators']), learning_rate=best_params['learning_rate'])\n",
        "\n",
        "# xgb_model_1.fit(X_train, y_train)"
      ]
    },
    {
      "cell_type": "code",
      "execution_count": null,
      "metadata": {
        "colab": {
          "base_uri": "https://localhost:8080/"
        },
        "id": "g2Rso6Bkywd5",
        "outputId": "1b90faad-5d1a-450a-da13-4e60c3ccff40"
      },
      "outputs": [
        {
          "output_type": "execute_result",
          "data": {
            "text/plain": [
              "XGBRegressor(alpha=4, eta=0.3, max_depth=11, n_estimators=550,\n",
              "             objective='reg:squarederror')"
            ]
          },
          "metadata": {},
          "execution_count": 21
        }
      ],
      "source": [
        "xgb_model_2 = xgb.XGBRegressor(objective='reg:squarederror', max_depth = 11, alpha = 4, n_estimators = 550, eta=.3)\n",
        "xgb_model_2.fit(X_train, y_train)\n"
      ]
    },
    {
      "cell_type": "code",
      "execution_count": null,
      "metadata": {
        "colab": {
          "base_uri": "https://localhost:8080/"
        },
        "id": "G-Jc40YB0sj4",
        "outputId": "f19c084d-34a9-4f0b-de18-30c8e5b8a3e3"
      },
      "outputs": [
        {
          "output_type": "stream",
          "name": "stdout",
          "text": [
            "Scores: \n",
            "\tTrain 0.9406\n",
            "\tValid 0.7919\n",
            "\tTest  0.8074\n"
          ]
        }
      ],
      "source": [
        "print_scores(xgb_model_2)"
      ]
    },
    {
      "cell_type": "code",
      "execution_count": null,
      "metadata": {
        "id": "7eH09NCvymXa"
      },
      "outputs": [],
      "source": [
        "# xgb_model_2.save_model('xgb_model_v1.1.json')\n",
        "\n",
        "# xgb_model_2 = xgb.XGBRegressor()\n",
        "# xgb_model_2.load_model('xgb_model_v1.1.json')"
      ]
    },
    {
      "cell_type": "code",
      "execution_count": null,
      "metadata": {
        "id": "0k2Y3n6nymsG"
      },
      "outputs": [],
      "source": [
        ""
      ]
    },
    {
      "cell_type": "markdown",
      "metadata": {
        "id": "irmUF6xmymxa"
      },
      "source": [
        "### Catboost"
      ]
    },
    {
      "cell_type": "code",
      "execution_count": null,
      "metadata": {
        "colab": {
          "base_uri": "https://localhost:8080/"
        },
        "id": "8Tlou2rm0WqW",
        "outputId": "5f6613d1-9536-436c-acac-e409ddc778f5"
      },
      "outputs": [
        {
          "output_type": "stream",
          "name": "stderr",
          "text": [
            "Custom logger is already specified. Specify more than one logger at same time is not thread safe."
          ]
        },
        {
          "output_type": "execute_result",
          "data": {
            "text/plain": [
              "<catboost.core.CatBoostRegressor at 0x7f5876e35350>"
            ]
          },
          "metadata": {},
          "execution_count": 24
        }
      ],
      "source": [
        "try: \n",
        "  from catboost import CatBoostRegressor\n",
        "except:\n",
        "  !pip install catboost\n",
        "  from catboost import CatBoostRegressor\n",
        "\n",
        "cb_model = CatBoostRegressor(max_depth = 13,  n_estimators = 300, learning_rate=.3, verbose=0)\n",
        "cb_model.fit(X_train, y_train)\n"
      ]
    },
    {
      "cell_type": "code",
      "execution_count": null,
      "metadata": {
        "colab": {
          "base_uri": "https://localhost:8080/"
        },
        "id": "oIvTBW-J1ni9",
        "outputId": "5c5c2f5c-8e1d-4346-e07f-2ad27a5ab091"
      },
      "outputs": [
        {
          "output_type": "stream",
          "name": "stdout",
          "text": [
            "Scores: \n",
            "\tTrain 0.8954\n",
            "\tValid 0.7281\n",
            "\tTest  0.7384\n"
          ]
        }
      ],
      "source": [
        "print_scores(cb_model)"
      ]
    }
  ],
  "metadata": {
    "accelerator": "GPU",
    "colab": {
      "collapsed_sections": [],
      "name": "AML_team18_model.ipynb",
      "provenance": []
    },
    "kernelspec": {
      "display_name": "Python 3",
      "name": "python3"
    },
    "language_info": {
      "name": "python"
    }
  },
  "nbformat": 4,
  "nbformat_minor": 0
}